{
  "nbformat": 4,
  "nbformat_minor": 0,
  "metadata": {
    "colab": {
      "provenance": [],
      "authorship_tag": "ABX9TyNK92bLizYVw5qfJW3iWeuC",
      "include_colab_link": true
    },
    "kernelspec": {
      "name": "python3",
      "display_name": "Python 3"
    },
    "language_info": {
      "name": "python"
    }
  },
  "cells": [
    {
      "cell_type": "markdown",
      "metadata": {
        "id": "view-in-github",
        "colab_type": "text"
      },
      "source": [
        "<a href=\"https://colab.research.google.com/github/PriyansuSonu/Priyansu-/blob/main/P8.ipynb\" target=\"_parent\"><img src=\"https://colab.research.google.com/assets/colab-badge.svg\" alt=\"Open In Colab\"/></a>"
      ]
    },
    {
      "cell_type": "code",
      "source": [
        "#IMAGE PROCESSING - WE WILL PERFORM IT IN PYTHON IDLE"
      ],
      "metadata": {
        "id": "8RdK_pdfCl11"
      },
      "execution_count": null,
      "outputs": []
    },
    {
      "cell_type": "code",
      "source": [
        "#1.In windows search ,type IDLE >Right click >open file location\n",
        "#2.Again right click on the selected shortcut file >open file location\n",
        "#Now you are in Python 310/Python 311 folder\n",
        "#3.Go inside the Scripts folder and copy the path\n",
        "#4.Open command prompt and type cd ctrl+V and press enter\n",
        "#Now your command prompt is inside the scripts folder\n",
        "#5.Now type pip install opencv-python\n",
        "#Along with opencv ,even numpy gets downloaded\n",
        "#6.type pip list and check for your installed Libraries"
      ],
      "metadata": {
        "id": "5NXE2biaCmQf"
      },
      "execution_count": null,
      "outputs": []
    },
    {
      "cell_type": "code",
      "source": [
        "#1.READ an IMAGE\n",
        "import cv2 #importing the opencv/computer vision lib\n",
        "img = cv2.imread('abc.jpg') #We are reading the image\n",
        "cv2.imshow('OUTPUT2',img) #We are displaying the image\n",
        "cv2.waitKey(3000)#3000 is 3000 milliseconds,0 will make sure , the image stays forever\n",
        "cv2.destroyAllWindows()"
      ],
      "metadata": {
        "id": "EfQaEczhCmo4"
      },
      "execution_count": null,
      "outputs": []
    },
    {
      "cell_type": "code",
      "source": [
        "#2.Creating a Duplicate Image using Python\n",
        "import cv2\n",
        "img = cv2.imread('abc.jpg')#reading the image\n",
        "cv2.imshow('OUTPUT 1',img)#displaying the image\n",
        "cv2.imwrite('ameen.png',img)#CReates a new image\n",
        "cv2.waitKey(0)\n",
        "cv2.destroyAllWindows()"
      ],
      "metadata": {
        "id": "E0ynk62ECnuq"
      },
      "execution_count": null,
      "outputs": []
    },
    {
      "cell_type": "code",
      "source": [
        "#3.Read the INFORMATION about the image\n",
        "import cv2\n",
        "img = cv2.imread('abc.jpg')\n",
        "print(img.shape)\n",
        "#OUTPUT: (344, 612, 3)\n",
        "#344 is the Height of the Image in Pixels\n",
        "#612 is the Width od the Image in Pixels\n",
        "#3 is the depth/channel value - 3 by default(3 primary colors)"
      ],
      "metadata": {
        "id": "abAgZT_nCoXX"
      },
      "execution_count": null,
      "outputs": []
    },
    {
      "cell_type": "code",
      "source": [
        "#4.GRAYSCALE IMAGE (BLACK and WHITE IMAGE)\n",
        "import cv2\n",
        "img = cv2.imread('abc.jpg')#reading the image\n",
        "gray = cv2.cvtColor(img,cv2.COLOR_BGR2GRAY)#conversion into grayscale\n",
        "cv2.imshow('NORMAL IMAGE',img) #displays the original image\n",
        "cv2.imshow('GRAY SCALE IMAGE',gray)\n",
        "cv2.waitKey(0)\n",
        "cv2.destroyAllWindows()\n",
        "#4.GRAYSCALE SHORT PROGRAM\n",
        "import cv2\n",
        "img = cv2.imread('abc.jpg',0) #0 here converts the image into grayscale\n",
        "cv2.imshow('GRAYSCALE IMAGE',img)\n",
        "cv2.waitKey(0)\n",
        "cv2.destroyAllWindows()"
      ],
      "metadata": {
        "id": "IxtgnzPdCo_M"
      },
      "execution_count": null,
      "outputs": []
    },
    {
      "cell_type": "code",
      "source": [
        "#5.BINARY IMAGE CONVERSION(HIGH CONTRAST IMAGE)\n",
        "import cv2\n",
        "img = cv2.imread('abc.jpg',0) #gray scale image\n",
        "cv2.imshow('GRAY SCALE IMAGE',img)#displaying the grayscale image\n",
        "cv2.waitKey(2000)\n",
        "#============cv2.threshold(src,thresh,max value,conversion type)\n",
        "ret,binary = cv2.threshold(img,127,255,cv2.THRESH_BINARY)#converts image from grayscale to binary\n",
        "#ret and binary are 2 varibales to be taken .So here ret is a dummy variable\n",
        "cv2.imshow('BINARY IMAGE',binary)\n",
        "cv2.waitKey(0)\n",
        "cv2.destroyAllWindows()"
      ],
      "metadata": {
        "id": "OtfQYYBCCpiQ"
      },
      "execution_count": null,
      "outputs": []
    },
    {
      "cell_type": "code",
      "source": [
        "#6.SOLID BACKGROUND(BLACK or WHITE BACKGROUND)\n",
        "#WHITE COLOR\n",
        "import cv2\n",
        "import numpy as np\n",
        "img = np.ones((500,500,3))#500 is the length,500 is the width,3 is depth/channel value\n",
        "#In the above line , we are creating a white background\n",
        "cv2.imshow('WHITE',img)\n",
        "cv2.waitKey(0)\n",
        "cv2.destroyAllWindows()\n",
        "#BLACK COLOR\n",
        "import cv2\n",
        "import numpy as np\n",
        "img = np.zeros((500,500,3))#500 is the length,500 is the width,3 is depth/channel value\n",
        "#In the above line , we are creating a white background\n",
        "cv2.imshow('BLACK',img)\n",
        "cv2.waitKey(0)\n",
        "cv2.destroyAllWindows()"
      ],
      "metadata": {
        "id": "SsItXXMECrAs"
      },
      "execution_count": null,
      "outputs": []
    },
    {
      "cell_type": "code",
      "source": [
        "#7.SOLID COLORS (RED,GREEN and BLUE)\n",
        "#RED\n",
        "import cv2\n",
        "import numpy as np\n",
        "img = np.zeros((250,250,3)) #creates a black image\n",
        "img[:] = 0,0,255 #Assigning the color(B,G,R)\n",
        "cv2.imshow('RED',img)\n",
        "cv2.waitKey(0)\n",
        "cv2.destroyAllWindows()\n",
        "#GREEN\n",
        "import cv2\n",
        "import numpy as np\n",
        "img = np.zeros((250,250,3)) #creates a black image\n",
        "img[:] = 0,255,0 #Assigning the color(B,G,R)\n",
        "cv2.imshow('GREEN',img)\n",
        "cv2.waitKey(0)\n",
        "cv2.destroyAllWindows()\n",
        "#BLUE\n",
        "import cv2\n",
        "import numpy as np\n",
        "img = np.zeros((250,250,3)) #creates a black image\n",
        "img[:] = 255,0,0 #Assigning the color(B,G,R)\n",
        "cv2.imshow('BLUE',img)\n",
        "cv2.waitKey(0)\n",
        "cv2.destroyAllWindows()"
      ],
      "metadata": {
        "id": "8gCzNA7TCr7q"
      },
      "execution_count": null,
      "outputs": []
    },
    {
      "cell_type": "code",
      "source": [
        "#8.CHECKER BOARD\n",
        "import cv2\n",
        "import numpy as np\n",
        "img = np.zeros((200,200,3)) # BLACK BACKGROUND\n",
        "img[0:100,0:100]= 255,255,255\n",
        "img[100:200,100:200] = 255,255,255\n",
        "cv2.imshow('CHECKER BOARD',img)\n",
        "cv2.waitKey(0)\n",
        "cv2.destroyAllWindows()"
      ],
      "metadata": {
        "id": "YV8hRkDSCseA"
      },
      "execution_count": null,
      "outputs": []
    },
    {
      "cell_type": "code",
      "source": [],
      "metadata": {
        "id": "Sp72JZGWCs5a"
      },
      "execution_count": null,
      "outputs": []
    }
  ]
}