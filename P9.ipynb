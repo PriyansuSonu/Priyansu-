{
  "nbformat": 4,
  "nbformat_minor": 0,
  "metadata": {
    "colab": {
      "provenance": [],
      "authorship_tag": "ABX9TyPJtI4kjXoivB+e77KUWvu0",
      "include_colab_link": true
    },
    "kernelspec": {
      "name": "python3",
      "display_name": "Python 3"
    },
    "language_info": {
      "name": "python"
    }
  },
  "cells": [
    {
      "cell_type": "markdown",
      "metadata": {
        "id": "view-in-github",
        "colab_type": "text"
      },
      "source": [
        "<a href=\"https://colab.research.google.com/github/PriyansuSonu/Priyansu-/blob/main/P9.ipynb\" target=\"_parent\"><img src=\"https://colab.research.google.com/assets/colab-badge.svg\" alt=\"Open In Colab\"/></a>"
      ]
    },
    {
      "cell_type": "code",
      "execution_count": null,
      "metadata": {
        "id": "7jmBaqW4D4GM"
      },
      "outputs": [],
      "source": [
        "#9.RESIZING/SCALING the IMAGE\n",
        "import cv2\n",
        "import numpy as np\n",
        "img = cv2.imread('abc.jpg')#reading the image\n",
        "cv2.imshow('ORIGINAL IMAGE',img)\n",
        "cv2.waitKey(500)\n",
        "#1.Let us scale down the image to 75%\n",
        "img1 = cv2.resize(img,None,fx = 0.75,fy = 0.75)\n",
        "cv2.imshow('SCALED DOWN IMAGE',img1)\n",
        "#2.Let us scale up the image to 150%\n",
        "img2 = cv2.resize(img,None,fx = 1.5,fy = 1.5)\n",
        "cv2.imshow('SCALED UP IMAGE',img2)\n",
        "#3.Scaling using custom dimensions\n",
        "img3 = cv2.resize(img,(1000,400))\n",
        "cv2.imshow('CUSTOM DIMENSIONS',img3)\n",
        "cv2.waitKey(0)\n",
        "cv2.destroyAllWindows()"
      ]
    },
    {
      "cell_type": "code",
      "source": [
        "#10.RECTANGLE/SQUARE\n",
        "import cv2\n",
        "import numpy as np\n",
        "img = np.zeros((500,500,3)) #black background\n",
        "#cv2.rectangle(src,point1,point2,color,thickness)\n",
        "cv2.rectangle(img,(200,200),(400,400),(0,255,0),5)\n",
        "cv2.imshow('RECTANGLE',img)\n",
        "cv2.waitKey(0)\n",
        "cv2.destroyAllWindows()"
      ],
      "metadata": {
        "id": "BNy4v7aLJilT"
      },
      "execution_count": null,
      "outputs": []
    },
    {
      "cell_type": "code",
      "source": [
        "#11.LIVE VIDEO from the WEBCAM\n",
        "import cv2\n",
        "cap = cv2.VideoCapture(0) #0 here considers the default webcam port\n",
        "while True:\n",
        "    ret,frame = cap.read()#from the cap variable , we read the video\n",
        "    #ret and frame are 2 variables to be considered\n",
        "    #We only use frame variable , ret is dummy\n",
        "    cv2.imshow('My Live Sketch',frame)\n",
        "    if cv2.waitKey(1) == 13:\n",
        "        break\n",
        "cap.release() #It release the default webcam port \n",
        "cv2.destroyAllWindows()"
      ],
      "metadata": {
        "id": "32IJfgNLJjI0"
      },
      "execution_count": null,
      "outputs": []
    },
    {
      "cell_type": "code",
      "source": [
        "#12.MY CANNY(EDGE DETECTION TECHNIQUE) SKETCH\n",
        "import cv2\n",
        "cap = cv2.VideoCapture(0)\n",
        "while True:\n",
        "    ret,frame = cap.read()\n",
        "    canny = cv2.Canny(frame,20,150)#20,150 are the threshold values for best edge detection\n",
        "    cv2.imshow('MY CANNY SKETCH',canny)\n",
        "    if cv2.waitKey(1) == ord('q'):\n",
        "        break\n",
        "cap.release()\n",
        "cv2.destroyAllWindows()"
      ],
      "metadata": {
        "id": "cOCEtk96Jj0s"
      },
      "execution_count": null,
      "outputs": []
    },
    {
      "cell_type": "code",
      "source": [
        "#FORECASTING - FB PROPHET\n",
        "#FACEBOOK\n",
        "#FORECASTING - PREDICTING SOMETHING W.R.T TIME\n",
        "#1 quintal - 100 kgs"
      ],
      "metadata": {
        "id": "yI4ZoKvLJk7B"
      },
      "execution_count": null,
      "outputs": []
    },
    {
      "cell_type": "code",
      "source": [
        "#Take the data and create dataframe\n",
        "import pandas as pd\n",
        "df = pd.read_html('/content/DailyWiseMarketArrivals.html')[-1]\n",
        "df"
      ],
      "metadata": {
        "id": "xZL2ibULJldW"
      },
      "execution_count": null,
      "outputs": []
    },
    {
      "cell_type": "code",
      "source": [
        "df.info() #It gives us the information about the dataframe"
      ],
      "metadata": {
        "id": "cO5-eDIOJly7"
      },
      "execution_count": null,
      "outputs": []
    },
    {
      "cell_type": "code",
      "source": [
        "#TO officially check the null values\n",
        "df.isnull().sum()"
      ],
      "metadata": {
        "id": "oUMcYMhEJmFX"
      },
      "execution_count": null,
      "outputs": []
    },
    {
      "cell_type": "code",
      "source": [
        "#TO remove the null value\n",
        "df = df.dropna()"
      ],
      "metadata": {
        "id": "TrUHfFLHJmXY"
      },
      "execution_count": null,
      "outputs": []
    },
    {
      "cell_type": "code",
      "source": [
        "#The input to FB Prophet is always 2 columns - ds (relation with time) and y(prices)\n",
        "#SO let us consider the date column and the Modal price column\n",
        "#Let us rename the date column into ds and the Modal price column into y\n",
        "df = df.rename(columns = {'Modal Price (Rs/q)':'y','Date':'ds'})\n",
        "df"
      ],
      "metadata": {
        "id": "UcBGQW1aJmqH"
      },
      "execution_count": null,
      "outputs": []
    },
    {
      "cell_type": "code",
      "source": [
        "#Now let us create a new dataframe with only ds and y columns\n",
        "df_new = df[['ds','y']]\n",
        "df_new"
      ],
      "metadata": {
        "id": "dsXF6NWTJnbT"
      },
      "execution_count": null,
      "outputs": []
    },
    {
      "cell_type": "code",
      "source": [
        "df_new.info()"
      ],
      "metadata": {
        "id": "2Qz-EkYSJn5O"
      },
      "execution_count": null,
      "outputs": []
    },
    {
      "cell_type": "code",
      "source": [
        "#The columns ds and y , are not in desired datatype format\n",
        "#We convert the ds column's datatype into datetime format\n",
        "#We convert the y column's datatype into integer format\n",
        "df_new['ds'] = pd.to_datetime(df_new['ds'])\n",
        "df_new['y'] = df_new['y'].astype(int)\n",
        "df_new.info()"
      ],
      "metadata": {
        "id": "YCQUqCm_Joc-"
      },
      "execution_count": null,
      "outputs": []
    },
    {
      "cell_type": "code",
      "source": [
        "#VISUALISATION\n",
        "import matplotlib.pyplot as plt\n",
        "plt.figure(figsize = (25,5))\n",
        "plt.scatter(df_new['ds'],df_new['y'])"
      ],
      "metadata": {
        "id": "yvUXZ6-bJo_l"
      },
      "execution_count": null,
      "outputs": []
    },
    {
      "cell_type": "code",
      "source": [
        "#FB PROPHET \n",
        "import prophet\n",
        "op = prophet.Prophet()\n",
        "op.fit(df_new)"
      ],
      "metadata": {
        "id": "f8v2lwC7JpS0"
      },
      "execution_count": null,
      "outputs": []
    },
    {
      "cell_type": "code",
      "source": [
        "forecast = op.make_future_dataframe(periods = 700,freq = 'D')\n",
        "forecast = op.predict(forecast)"
      ],
      "metadata": {
        "id": "MI1gu_zmJpnG"
      },
      "execution_count": null,
      "outputs": []
    },
    {
      "cell_type": "code",
      "source": [
        "op.plot(forecast,xlabel = 'Date',ylabel = 'Potato Prices/q')\n",
        "#BLACK DOTS - ACTUAL POTATO PRICES \n",
        "#LIGHT BLUE SHADE - MINIMUM and MAXIMUM PRICES as PREDICTED BY OUR MODEL\n",
        "#THE DARK BLUE LINE  - THE BEST FIT LINE"
      ],
      "metadata": {
        "id": "TtnXySW1Jp84"
      },
      "execution_count": null,
      "outputs": []
    }
  ]
}