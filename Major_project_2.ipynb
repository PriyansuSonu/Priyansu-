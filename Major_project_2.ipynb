{
  "nbformat": 4,
  "nbformat_minor": 0,
  "metadata": {
    "colab": {
      "provenance": [],
      "authorship_tag": "ABX9TyM3QDUn5PyU/q+ngpO3SgwR",
      "include_colab_link": true
    },
    "kernelspec": {
      "name": "python3",
      "display_name": "Python 3"
    },
    "language_info": {
      "name": "python"
    }
  },
  "cells": [
    {
      "cell_type": "markdown",
      "metadata": {
        "id": "view-in-github",
        "colab_type": "text"
      },
      "source": [
        "<a href=\"https://colab.research.google.com/github/PriyansuSonu/Priyansu-/blob/main/Major_project_2.ipynb\" target=\"_parent\"><img src=\"https://colab.research.google.com/assets/colab-badge.svg\" alt=\"Open In Colab\"/></a>"
      ]
    },
    {
      "cell_type": "code",
      "execution_count": null,
      "metadata": {
        "colab": {
          "base_uri": "https://localhost:8080/",
          "height": 572
        },
        "id": "6IKsOosdO8TG",
        "outputId": "2e0c67bf-48a6-43ea-c7b2-e5d9181c6d9e"
      },
      "outputs": [
        {
          "output_type": "execute_result",
          "data": {
            "text/plain": [
              "                                   Game   Developer(s)   Publisher  \\\n",
              "0   Pokémon Red / Green / Blue / Yellow     Game Freak    Nintendo   \n",
              "1                                Tetris  Nintendo R&D1    Nintendo   \n",
              "2       Pokémon Gold / Silver / Crystal     Game Freak    Nintendo   \n",
              "3                      Super Mario Land  Nintendo R&D1    Nintendo   \n",
              "4    Super Mario Land 2: 6 Golden Coins  Nintendo R&D1    Nintendo   \n",
              "..                                  ...            ...         ...   \n",
              "61                       Space Invaders          Taito    Nintendo   \n",
              "62                           The Smurfs   Bit Managers  Infogrames   \n",
              "63                    Street Fighter II          Sun L    Nintendo   \n",
              "64                 Game & Watch Gallery           Tose    Nintendo   \n",
              "65                       James Bond 007        Saffire    Nintendo   \n",
              "\n",
              "          Platform Release date     Sales  \n",
              "0         Game Boy   1996-02-27  46020000  \n",
              "1         Game Boy   1989-06-14  35000000  \n",
              "2   Game Boy Color   1999-11-21  29490000  \n",
              "3         Game Boy   1989-04-21  18140000  \n",
              "4         Game Boy   1992-10-21  11180000  \n",
              "..             ...          ...       ...  \n",
              "61        Game Boy   1994-01-01   1000000  \n",
              "62        Game Boy   1994-01-01   1000000  \n",
              "63        Game Boy   1995-08-11   1000000  \n",
              "64        Game Boy   1997-02-01   1000000  \n",
              "65        Game Boy   1998-01-29   1000000  \n",
              "\n",
              "[66 rows x 6 columns]"
            ],
            "text/html": [
              "\n",
              "  <div id=\"df-86f0cf19-dd1b-4850-8142-65d31a79ecf5\">\n",
              "    <div class=\"colab-df-container\">\n",
              "      <div>\n",
              "<style scoped>\n",
              "    .dataframe tbody tr th:only-of-type {\n",
              "        vertical-align: middle;\n",
              "    }\n",
              "\n",
              "    .dataframe tbody tr th {\n",
              "        vertical-align: top;\n",
              "    }\n",
              "\n",
              "    .dataframe thead th {\n",
              "        text-align: right;\n",
              "    }\n",
              "</style>\n",
              "<table border=\"1\" class=\"dataframe\">\n",
              "  <thead>\n",
              "    <tr style=\"text-align: right;\">\n",
              "      <th></th>\n",
              "      <th>Game</th>\n",
              "      <th>Developer(s)</th>\n",
              "      <th>Publisher</th>\n",
              "      <th>Platform</th>\n",
              "      <th>Release date</th>\n",
              "      <th>Sales</th>\n",
              "    </tr>\n",
              "  </thead>\n",
              "  <tbody>\n",
              "    <tr>\n",
              "      <th>0</th>\n",
              "      <td>Pokémon Red / Green / Blue / Yellow</td>\n",
              "      <td>Game Freak</td>\n",
              "      <td>Nintendo</td>\n",
              "      <td>Game Boy</td>\n",
              "      <td>1996-02-27</td>\n",
              "      <td>46020000</td>\n",
              "    </tr>\n",
              "    <tr>\n",
              "      <th>1</th>\n",
              "      <td>Tetris</td>\n",
              "      <td>Nintendo R&amp;D1</td>\n",
              "      <td>Nintendo</td>\n",
              "      <td>Game Boy</td>\n",
              "      <td>1989-06-14</td>\n",
              "      <td>35000000</td>\n",
              "    </tr>\n",
              "    <tr>\n",
              "      <th>2</th>\n",
              "      <td>Pokémon Gold / Silver / Crystal</td>\n",
              "      <td>Game Freak</td>\n",
              "      <td>Nintendo</td>\n",
              "      <td>Game Boy Color</td>\n",
              "      <td>1999-11-21</td>\n",
              "      <td>29490000</td>\n",
              "    </tr>\n",
              "    <tr>\n",
              "      <th>3</th>\n",
              "      <td>Super Mario Land</td>\n",
              "      <td>Nintendo R&amp;D1</td>\n",
              "      <td>Nintendo</td>\n",
              "      <td>Game Boy</td>\n",
              "      <td>1989-04-21</td>\n",
              "      <td>18140000</td>\n",
              "    </tr>\n",
              "    <tr>\n",
              "      <th>4</th>\n",
              "      <td>Super Mario Land 2: 6 Golden Coins</td>\n",
              "      <td>Nintendo R&amp;D1</td>\n",
              "      <td>Nintendo</td>\n",
              "      <td>Game Boy</td>\n",
              "      <td>1992-10-21</td>\n",
              "      <td>11180000</td>\n",
              "    </tr>\n",
              "    <tr>\n",
              "      <th>...</th>\n",
              "      <td>...</td>\n",
              "      <td>...</td>\n",
              "      <td>...</td>\n",
              "      <td>...</td>\n",
              "      <td>...</td>\n",
              "      <td>...</td>\n",
              "    </tr>\n",
              "    <tr>\n",
              "      <th>61</th>\n",
              "      <td>Space Invaders</td>\n",
              "      <td>Taito</td>\n",
              "      <td>Nintendo</td>\n",
              "      <td>Game Boy</td>\n",
              "      <td>1994-01-01</td>\n",
              "      <td>1000000</td>\n",
              "    </tr>\n",
              "    <tr>\n",
              "      <th>62</th>\n",
              "      <td>The Smurfs</td>\n",
              "      <td>Bit Managers</td>\n",
              "      <td>Infogrames</td>\n",
              "      <td>Game Boy</td>\n",
              "      <td>1994-01-01</td>\n",
              "      <td>1000000</td>\n",
              "    </tr>\n",
              "    <tr>\n",
              "      <th>63</th>\n",
              "      <td>Street Fighter II</td>\n",
              "      <td>Sun L</td>\n",
              "      <td>Nintendo</td>\n",
              "      <td>Game Boy</td>\n",
              "      <td>1995-08-11</td>\n",
              "      <td>1000000</td>\n",
              "    </tr>\n",
              "    <tr>\n",
              "      <th>64</th>\n",
              "      <td>Game &amp; Watch Gallery</td>\n",
              "      <td>Tose</td>\n",
              "      <td>Nintendo</td>\n",
              "      <td>Game Boy</td>\n",
              "      <td>1997-02-01</td>\n",
              "      <td>1000000</td>\n",
              "    </tr>\n",
              "    <tr>\n",
              "      <th>65</th>\n",
              "      <td>James Bond 007</td>\n",
              "      <td>Saffire</td>\n",
              "      <td>Nintendo</td>\n",
              "      <td>Game Boy</td>\n",
              "      <td>1998-01-29</td>\n",
              "      <td>1000000</td>\n",
              "    </tr>\n",
              "  </tbody>\n",
              "</table>\n",
              "<p>66 rows × 6 columns</p>\n",
              "</div>\n",
              "      <button class=\"colab-df-convert\" onclick=\"convertToInteractive('df-86f0cf19-dd1b-4850-8142-65d31a79ecf5')\"\n",
              "              title=\"Convert this dataframe to an interactive table.\"\n",
              "              style=\"display:none;\">\n",
              "        \n",
              "  <svg xmlns=\"http://www.w3.org/2000/svg\" height=\"24px\"viewBox=\"0 0 24 24\"\n",
              "       width=\"24px\">\n",
              "    <path d=\"M0 0h24v24H0V0z\" fill=\"none\"/>\n",
              "    <path d=\"M18.56 5.44l.94 2.06.94-2.06 2.06-.94-2.06-.94-.94-2.06-.94 2.06-2.06.94zm-11 1L8.5 8.5l.94-2.06 2.06-.94-2.06-.94L8.5 2.5l-.94 2.06-2.06.94zm10 10l.94 2.06.94-2.06 2.06-.94-2.06-.94-.94-2.06-.94 2.06-2.06.94z\"/><path d=\"M17.41 7.96l-1.37-1.37c-.4-.4-.92-.59-1.43-.59-.52 0-1.04.2-1.43.59L10.3 9.45l-7.72 7.72c-.78.78-.78 2.05 0 2.83L4 21.41c.39.39.9.59 1.41.59.51 0 1.02-.2 1.41-.59l7.78-7.78 2.81-2.81c.8-.78.8-2.07 0-2.86zM5.41 20L4 18.59l7.72-7.72 1.47 1.35L5.41 20z\"/>\n",
              "  </svg>\n",
              "      </button>\n",
              "      \n",
              "  <style>\n",
              "    .colab-df-container {\n",
              "      display:flex;\n",
              "      flex-wrap:wrap;\n",
              "      gap: 12px;\n",
              "    }\n",
              "\n",
              "    .colab-df-convert {\n",
              "      background-color: #E8F0FE;\n",
              "      border: none;\n",
              "      border-radius: 50%;\n",
              "      cursor: pointer;\n",
              "      display: none;\n",
              "      fill: #1967D2;\n",
              "      height: 32px;\n",
              "      padding: 0 0 0 0;\n",
              "      width: 32px;\n",
              "    }\n",
              "\n",
              "    .colab-df-convert:hover {\n",
              "      background-color: #E2EBFA;\n",
              "      box-shadow: 0px 1px 2px rgba(60, 64, 67, 0.3), 0px 1px 3px 1px rgba(60, 64, 67, 0.15);\n",
              "      fill: #174EA6;\n",
              "    }\n",
              "\n",
              "    [theme=dark] .colab-df-convert {\n",
              "      background-color: #3B4455;\n",
              "      fill: #D2E3FC;\n",
              "    }\n",
              "\n",
              "    [theme=dark] .colab-df-convert:hover {\n",
              "      background-color: #434B5C;\n",
              "      box-shadow: 0px 1px 3px 1px rgba(0, 0, 0, 0.15);\n",
              "      filter: drop-shadow(0px 1px 2px rgba(0, 0, 0, 0.3));\n",
              "      fill: #FFFFFF;\n",
              "    }\n",
              "  </style>\n",
              "\n",
              "      <script>\n",
              "        const buttonEl =\n",
              "          document.querySelector('#df-86f0cf19-dd1b-4850-8142-65d31a79ecf5 button.colab-df-convert');\n",
              "        buttonEl.style.display =\n",
              "          google.colab.kernel.accessAllowed ? 'block' : 'none';\n",
              "\n",
              "        async function convertToInteractive(key) {\n",
              "          const element = document.querySelector('#df-86f0cf19-dd1b-4850-8142-65d31a79ecf5');\n",
              "          const dataTable =\n",
              "            await google.colab.kernel.invokeFunction('convertToInteractive',\n",
              "                                                     [key], {});\n",
              "          if (!dataTable) return;\n",
              "\n",
              "          const docLinkHtml = 'Like what you see? Visit the ' +\n",
              "            '<a target=\"_blank\" href=https://colab.research.google.com/notebooks/data_table.ipynb>data table notebook</a>'\n",
              "            + ' to learn more about interactive tables.';\n",
              "          element.innerHTML = '';\n",
              "          dataTable['output_type'] = 'display_data';\n",
              "          await google.colab.output.renderOutput(dataTable, element);\n",
              "          const docLink = document.createElement('div');\n",
              "          docLink.innerHTML = docLinkHtml;\n",
              "          element.appendChild(docLink);\n",
              "        }\n",
              "      </script>\n",
              "    </div>\n",
              "  </div>\n",
              "  "
            ]
          },
          "metadata": {},
          "execution_count": 1
        }
      ],
      "source": [
        "#1 Take the data and create\n",
        "import pandas as pd\n",
        "df = pd.read_csv('/content/best-selling-gameboy.csv')\n",
        "df"
      ]
    },
    {
      "cell_type": "code",
      "source": [
        "df.shape"
      ],
      "metadata": {
        "colab": {
          "base_uri": "https://localhost:8080/"
        },
        "id": "VSkGMPmPPkaI",
        "outputId": "5ac032fe-80b9-4402-df6a-e82be5990b08"
      },
      "execution_count": null,
      "outputs": [
        {
          "output_type": "execute_result",
          "data": {
            "text/plain": [
              "(66, 6)"
            ]
          },
          "metadata": {},
          "execution_count": 2
        }
      ]
    },
    {
      "cell_type": "code",
      "source": [
        "df.size #total no. of elements"
      ],
      "metadata": {
        "colab": {
          "base_uri": "https://localhost:8080/"
        },
        "id": "98tt9I5oPnuD",
        "outputId": "a5c46e5d-4657-4f59-c9e7-c92ac69e9d1a"
      },
      "execution_count": null,
      "outputs": [
        {
          "output_type": "execute_result",
          "data": {
            "text/plain": [
              "396"
            ]
          },
          "metadata": {},
          "execution_count": 3
        }
      ]
    },
    {
      "cell_type": "code",
      "source": [
        "df.info() #complete information"
      ],
      "metadata": {
        "colab": {
          "base_uri": "https://localhost:8080/"
        },
        "id": "sF-sU0tVPpyc",
        "outputId": "c0b4bb14-fe96-446b-f3ff-2ca33ec0343a"
      },
      "execution_count": null,
      "outputs": [
        {
          "output_type": "stream",
          "name": "stdout",
          "text": [
            "<class 'pandas.core.frame.DataFrame'>\n",
            "RangeIndex: 66 entries, 0 to 65\n",
            "Data columns (total 6 columns):\n",
            " #   Column        Non-Null Count  Dtype \n",
            "---  ------        --------------  ----- \n",
            " 0   Game          66 non-null     object\n",
            " 1   Developer(s)  66 non-null     object\n",
            " 2   Publisher     66 non-null     object\n",
            " 3   Platform      66 non-null     object\n",
            " 4   Release date  66 non-null     object\n",
            " 5   Sales         66 non-null     int64 \n",
            "dtypes: int64(1), object(5)\n",
            "memory usage: 3.2+ KB\n"
          ]
        }
      ]
    },
    {
      "cell_type": "code",
      "source": [
        "df.nunique()"
      ],
      "metadata": {
        "colab": {
          "base_uri": "https://localhost:8080/"
        },
        "id": "ZI4rYjUMPsDa",
        "outputId": "8d57280e-4d55-4ace-c2d6-27be445d5c7e"
      },
      "execution_count": null,
      "outputs": [
        {
          "output_type": "execute_result",
          "data": {
            "text/plain": [
              "Game            66\n",
              "Developer(s)    31\n",
              "Publisher        8\n",
              "Platform         2\n",
              "Release date    61\n",
              "Sales           47\n",
              "dtype: int64"
            ]
          },
          "metadata": {},
          "execution_count": 5
        }
      ]
    },
    {
      "cell_type": "code",
      "source": [
        "df['Platform'].value_counts()"
      ],
      "metadata": {
        "colab": {
          "base_uri": "https://localhost:8080/"
        },
        "id": "d4-7yMjhPwKn",
        "outputId": "c5c401fc-fd30-47f9-ee35-7f7e8b59b817"
      },
      "execution_count": null,
      "outputs": [
        {
          "output_type": "execute_result",
          "data": {
            "text/plain": [
              "Game Boy          48\n",
              "Game Boy Color    18\n",
              "Name: Platform, dtype: int64"
            ]
          },
          "metadata": {},
          "execution_count": 6
        }
      ]
    },
    {
      "cell_type": "code",
      "source": [
        "df['Publisher'].value_counts()"
      ],
      "metadata": {
        "colab": {
          "base_uri": "https://localhost:8080/"
        },
        "id": "hS6v4P1FPzkU",
        "outputId": "87f74892-ec61-459b-fd3b-63ac653d9e9d"
      },
      "execution_count": null,
      "outputs": [
        {
          "output_type": "execute_result",
          "data": {
            "text/plain": [
              "Nintendo      46\n",
              "Capcom         7\n",
              "Konami         4\n",
              "Kemco          3\n",
              "Bandai         2\n",
              "Enix           2\n",
              "Square         1\n",
              "Infogrames     1\n",
              "Name: Publisher, dtype: int64"
            ]
          },
          "metadata": {},
          "execution_count": 7
        }
      ]
    },
    {
      "cell_type": "code",
      "source": [
        "print(\"Data types of the columns:\")\n",
        "print(df.dtypes)"
      ],
      "metadata": {
        "colab": {
          "base_uri": "https://localhost:8080/"
        },
        "id": "SzqycJAVP13d",
        "outputId": "4c1fb330-d756-47f8-8627-841b9518e307"
      },
      "execution_count": null,
      "outputs": [
        {
          "output_type": "stream",
          "name": "stdout",
          "text": [
            "Data types of the columns:\n",
            "Game            object\n",
            "Developer(s)    object\n",
            "Publisher       object\n",
            "Platform        object\n",
            "Release date    object\n",
            "Sales            int64\n",
            "dtype: object\n"
          ]
        }
      ]
    },
    {
      "cell_type": "code",
      "source": [
        "import seaborn as sns#import the library\n",
        "sns.countplot(x = 'Sales',data = df)"
      ],
      "metadata": {
        "colab": {
          "base_uri": "https://localhost:8080/",
          "height": 296
        },
        "id": "OmEB4hF0P55C",
        "outputId": "4558d8bb-0dd5-4e6a-9733-6e5ae8f074a6"
      },
      "execution_count": null,
      "outputs": [
        {
          "output_type": "execute_result",
          "data": {
            "text/plain": [
              "<matplotlib.axes._subplots.AxesSubplot at 0x7f62d7be9eb0>"
            ]
          },
          "metadata": {},
          "execution_count": 9
        },
        {
          "output_type": "display_data",
          "data": {
            "text/plain": [
              "<Figure size 432x288 with 1 Axes>"
            ],
            "image/png": "[encoded data removed]"
          },
          "metadata": {
            "needs_background": "light"
          }
        }
      ]
    },
    {
      "cell_type": "code",
      "source": [
        "import seaborn as sns#import the library\n",
        "sns.countplot(x = 'Platform',data = df)"
      ],
      "metadata": {
        "colab": {
          "base_uri": "https://localhost:8080/",
          "height": 299
        },
        "id": "TPiQfCrVQDtO",
        "outputId": "cfcd0434-5f0b-4959-a67d-8f555d20a24e"
      },
      "execution_count": null,
      "outputs": [
        {
          "output_type": "execute_result",
          "data": {
            "text/plain": [
              "<matplotlib.axes._subplots.AxesSubplot at 0x7f62df3f3af0>"
            ]
          },
          "metadata": {},
          "execution_count": 10
        },
        {
          "output_type": "display_data",
          "data": {
            "text/plain": [
              "<Figure size 432x288 with 1 Axes>"
            ],
            "image/png": "[encoded data removed]"
          },
          "metadata": {
            "needs_background": "light"
          }
        }
      ]
    },
    {
      "cell_type": "code",
      "source": [
        "import seaborn as sns#import the library\n",
        "sns.countplot(x = 'Publisher',data = df)"
      ],
      "metadata": {
        "colab": {
          "base_uri": "https://localhost:8080/",
          "height": 296
        },
        "id": "24kvK9P-QF9k",
        "outputId": "e80458df-f90d-4098-f7ff-065106588770"
      },
      "execution_count": null,
      "outputs": [
        {
          "output_type": "execute_result",
          "data": {
            "text/plain": [
              "<matplotlib.axes._subplots.AxesSubplot at 0x7f62d7596af0>"
            ]
          },
          "metadata": {},
          "execution_count": 11
        },
        {
          "output_type": "display_data",
          "data": {
            "text/plain": [
              "<Figure size 432x288 with 1 Axes>"
            ],
            "image/png": "[encoded data removed]"
          },
          "metadata": {
            "needs_background": "light"
          }
        }
      ]
    },
    {
      "cell_type": "code",
      "source": [
        "import numpy as np\n",
        "np.max(df['Sales'])"
      ],
      "metadata": {
        "colab": {
          "base_uri": "https://localhost:8080/"
        },
        "id": "C1pVZxrcQIpE",
        "outputId": "f946a3a0-a937-4598-cdd0-8be6b91b4118"
      },
      "execution_count": null,
      "outputs": [
        {
          "output_type": "execute_result",
          "data": {
            "text/plain": [
              "46020000"
            ]
          },
          "metadata": {},
          "execution_count": 12
        }
      ]
    },
    {
      "cell_type": "code",
      "source": [
        "import numpy as np\n",
        "np.min(df['Sales'])"
      ],
      "metadata": {
        "colab": {
          "base_uri": "https://localhost:8080/"
        },
        "id": "_bp3AccUQLgD",
        "outputId": "b8f6d778-75be-4722-bd63-cd25bca4b45b"
      },
      "execution_count": null,
      "outputs": [
        {
          "output_type": "execute_result",
          "data": {
            "text/plain": [
              "1000000"
            ]
          },
          "metadata": {},
          "execution_count": 13
        }
      ]
    },
    {
      "cell_type": "code",
      "source": [
        "# statistical summary of the dataset\n",
        "print(\"Statistical summary of the dataset:\")\n",
        "print(df.describe())"
      ],
      "metadata": {
        "colab": {
          "base_uri": "https://localhost:8080/"
        },
        "id": "_BhXFZkSQNu9",
        "outputId": "2a18e7b9-e253-4736-d2ce-6f6a7bb1774d"
      },
      "execution_count": null,
      "outputs": [
        {
          "output_type": "stream",
          "name": "stdout",
          "text": [
            "Statistical summary of the dataset:\n",
            "              Sales\n",
            "count  6.600000e+01\n",
            "mean   4.010402e+06\n",
            "std    7.801533e+06\n",
            "min    1.000000e+06\n",
            "25%    1.142500e+06\n",
            "50%    1.610000e+06\n",
            "75%    3.052500e+06\n",
            "max    4.602000e+07\n"
          ]
        }
      ]
    },
    {
      "cell_type": "code",
      "source": [
        "df['Developer(s)'].value_counts()"
      ],
      "metadata": {
        "colab": {
          "base_uri": "https://localhost:8080/"
        },
        "id": "8sYCFDCNQP_K",
        "outputId": "6916a83a-03d8-4886-bbd9-995a66531d34"
      },
      "execution_count": null,
      "outputs": [
        {
          "output_type": "execute_result",
          "data": {
            "text/plain": [
              "Nintendo R&D1                            12\n",
              "Rare                                      5\n",
              "Tose                                      5\n",
              "Konami                                    4\n",
              "Game Freak                                3\n",
              "Kemco                                     3\n",
              "HAL Laboratory                            3\n",
              "Nintendo EAD                              3\n",
              "Minakuchi Engineering                     3\n",
              "Capcom                                    2\n",
              "Bandai                                    2\n",
              "Nintendo EAD and Pax Softnica             2\n",
              "Camelot Software Planning                 1\n",
              "Sun L                                     1\n",
              "Bit Managers                              1\n",
              "Taito                                     1\n",
              "Make Software                             1\n",
              "NMS Software                              1\n",
              "Japan System House                        1\n",
              "Now Production                            1\n",
              "Jupiter                                   1\n",
              "Flagship                                  1\n",
              "Nintendo R&D2                             1\n",
              "Nintendo R&D1 and Tose                    1\n",
              "Intelligent Systems                       1\n",
              "Square                                    1\n",
              "Hudson Soft and Creatures Inc.            1\n",
              "Bullet-Proof Software                     1\n",
              "Nintendo R&D1 and Intelligent Systems     1\n",
              "Nintendo                                  1\n",
              "Saffire                                   1\n",
              "Name: Developer(s), dtype: int64"
            ]
          },
          "metadata": {},
          "execution_count": 15
        }
      ]
    },
    {
      "cell_type": "code",
      "source": [
        "df.head()"
      ],
      "metadata": {
        "id": "Uw4HT8KrQSe0",
        "outputId": "0f1e911c-3cff-4b3a-970f-c841f9203675",
        "colab": {
          "base_uri": "https://localhost:8080/",
          "height": 354
        }
      },
      "execution_count": null,
      "outputs": [
        {
          "output_type": "execute_result",
          "data": {
            "text/plain": [
              "                                  Game   Developer(s) Publisher  \\\n",
              "0  Pokémon Red / Green / Blue / Yellow     Game Freak  Nintendo   \n",
              "1                               Tetris  Nintendo R&D1  Nintendo   \n",
              "2      Pokémon Gold / Silver / Crystal     Game Freak  Nintendo   \n",
              "3                     Super Mario Land  Nintendo R&D1  Nintendo   \n",
              "4   Super Mario Land 2: 6 Golden Coins  Nintendo R&D1  Nintendo   \n",
              "\n",
              "         Platform Release date     Sales  \n",
              "0        Game Boy   1996-02-27  46020000  \n",
              "1        Game Boy   1989-06-14  35000000  \n",
              "2  Game Boy Color   1999-11-21  29490000  \n",
              "3        Game Boy   1989-04-21  18140000  \n",
              "4        Game Boy   1992-10-21  11180000  "
            ],
            "text/html": [
              "\n",
              "  <div id=\"df-e3e67cd2-5ca2-409a-85b5-872525b4f4a9\">\n",
              "    <div class=\"colab-df-container\">\n",
              "      <div>\n",
              "<style scoped>\n",
              "    .dataframe tbody tr th:only-of-type {\n",
              "        vertical-align: middle;\n",
              "    }\n",
              "\n",
              "    .dataframe tbody tr th {\n",
              "        vertical-align: top;\n",
              "    }\n",
              "\n",
              "    .dataframe thead th {\n",
              "        text-align: right;\n",
              "    }\n",
              "</style>\n",
              "<table border=\"1\" class=\"dataframe\">\n",
              "  <thead>\n",
              "    <tr style=\"text-align: right;\">\n",
              "      <th></th>\n",
              "      <th>Game</th>\n",
              "      <th>Developer(s)</th>\n",
              "      <th>Publisher</th>\n",
              "      <th>Platform</th>\n",
              "      <th>Release date</th>\n",
              "      <th>Sales</th>\n",
              "    </tr>\n",
              "  </thead>\n",
              "  <tbody>\n",
              "    <tr>\n",
              "      <th>0</th>\n",
              "      <td>Pokémon Red / Green / Blue / Yellow</td>\n",
              "      <td>Game Freak</td>\n",
              "      <td>Nintendo</td>\n",
              "      <td>Game Boy</td>\n",
              "      <td>1996-02-27</td>\n",
              "      <td>46020000</td>\n",
              "    </tr>\n",
              "    <tr>\n",
              "      <th>1</th>\n",
              "      <td>Tetris</td>\n",
              "      <td>Nintendo R&amp;D1</td>\n",
              "      <td>Nintendo</td>\n",
              "      <td>Game Boy</td>\n",
              "      <td>1989-06-14</td>\n",
              "      <td>35000000</td>\n",
              "    </tr>\n",
              "    <tr>\n",
              "      <th>2</th>\n",
              "      <td>Pokémon Gold / Silver / Crystal</td>\n",
              "      <td>Game Freak</td>\n",
              "      <td>Nintendo</td>\n",
              "      <td>Game Boy Color</td>\n",
              "      <td>1999-11-21</td>\n",
              "      <td>29490000</td>\n",
              "    </tr>\n",
              "    <tr>\n",
              "      <th>3</th>\n",
              "      <td>Super Mario Land</td>\n",
              "      <td>Nintendo R&amp;D1</td>\n",
              "      <td>Nintendo</td>\n",
              "      <td>Game Boy</td>\n",
              "      <td>1989-04-21</td>\n",
              "      <td>18140000</td>\n",
              "    </tr>\n",
              "    <tr>\n",
              "      <th>4</th>\n",
              "      <td>Super Mario Land 2: 6 Golden Coins</td>\n",
              "      <td>Nintendo R&amp;D1</td>\n",
              "      <td>Nintendo</td>\n",
              "      <td>Game Boy</td>\n",
              "      <td>1992-10-21</td>\n",
              "      <td>11180000</td>\n",
              "    </tr>\n",
              "  </tbody>\n",
              "</table>\n",
              "</div>\n",
              "      <button class=\"colab-df-convert\" onclick=\"convertToInteractive('df-e3e67cd2-5ca2-409a-85b5-872525b4f4a9')\"\n",
              "              title=\"Convert this dataframe to an interactive table.\"\n",
              "              style=\"display:none;\">\n",
              "        \n",
              "  <svg xmlns=\"http://www.w3.org/2000/svg\" height=\"24px\"viewBox=\"0 0 24 24\"\n",
              "       width=\"24px\">\n",
              "    <path d=\"M0 0h24v24H0V0z\" fill=\"none\"/>\n",
              "    <path d=\"M18.56 5.44l.94 2.06.94-2.06 2.06-.94-2.06-.94-.94-2.06-.94 2.06-2.06.94zm-11 1L8.5 8.5l.94-2.06 2.06-.94-2.06-.94L8.5 2.5l-.94 2.06-2.06.94zm10 10l.94 2.06.94-2.06 2.06-.94-2.06-.94-.94-2.06-.94 2.06-2.06.94z\"/><path d=\"M17.41 7.96l-1.37-1.37c-.4-.4-.92-.59-1.43-.59-.52 0-1.04.2-1.43.59L10.3 9.45l-7.72 7.72c-.78.78-.78 2.05 0 2.83L4 21.41c.39.39.9.59 1.41.59.51 0 1.02-.2 1.41-.59l7.78-7.78 2.81-2.81c.8-.78.8-2.07 0-2.86zM5.41 20L4 18.59l7.72-7.72 1.47 1.35L5.41 20z\"/>\n",
              "  </svg>\n",
              "      </button>\n",
              "      \n",
              "  <style>\n",
              "    .colab-df-container {\n",
              "      display:flex;\n",
              "      flex-wrap:wrap;\n",
              "      gap: 12px;\n",
              "    }\n",
              "\n",
              "    .colab-df-convert {\n",
              "      background-color: #E8F0FE;\n",
              "      border: none;\n",
              "      border-radius: 50%;\n",
              "      cursor: pointer;\n",
              "      display: none;\n",
              "      fill: #1967D2;\n",
              "      height: 32px;\n",
              "      padding: 0 0 0 0;\n",
              "      width: 32px;\n",
              "    }\n",
              "\n",
              "    .colab-df-convert:hover {\n",
              "      background-color: #E2EBFA;\n",
              "      box-shadow: 0px 1px 2px rgba(60, 64, 67, 0.3), 0px 1px 3px 1px rgba(60, 64, 67, 0.15);\n",
              "      fill: #174EA6;\n",
              "    }\n",
              "\n",
              "    [theme=dark] .colab-df-convert {\n",
              "      background-color: #3B4455;\n",
              "      fill: #D2E3FC;\n",
              "    }\n",
              "\n",
              "    [theme=dark] .colab-df-convert:hover {\n",
              "      background-color: #434B5C;\n",
              "      box-shadow: 0px 1px 3px 1px rgba(0, 0, 0, 0.15);\n",
              "      filter: drop-shadow(0px 1px 2px rgba(0, 0, 0, 0.3));\n",
              "      fill: #FFFFFF;\n",
              "    }\n",
              "  </style>\n",
              "\n",
              "      <script>\n",
              "        const buttonEl =\n",
              "          document.querySelector('#df-e3e67cd2-5ca2-409a-85b5-872525b4f4a9 button.colab-df-convert');\n",
              "        buttonEl.style.display =\n",
              "          google.colab.kernel.accessAllowed ? 'block' : 'none';\n",
              "\n",
              "        async function convertToInteractive(key) {\n",
              "          const element = document.querySelector('#df-e3e67cd2-5ca2-409a-85b5-872525b4f4a9');\n",
              "          const dataTable =\n",
              "            await google.colab.kernel.invokeFunction('convertToInteractive',\n",
              "                                                     [key], {});\n",
              "          if (!dataTable) return;\n",
              "\n",
              "          const docLinkHtml = 'Like what you see? Visit the ' +\n",
              "            '<a target=\"_blank\" href=https://colab.research.google.com/notebooks/data_table.ipynb>data table notebook</a>'\n",
              "            + ' to learn more about interactive tables.';\n",
              "          element.innerHTML = '';\n",
              "          dataTable['output_type'] = 'display_data';\n",
              "          await google.colab.output.renderOutput(dataTable, element);\n",
              "          const docLink = document.createElement('div');\n",
              "          docLink.innerHTML = docLinkHtml;\n",
              "          element.appendChild(docLink);\n",
              "        }\n",
              "      </script>\n",
              "    </div>\n",
              "  </div>\n",
              "  "
            ]
          },
          "metadata": {},
          "execution_count": 16
        }
      ]
    },
    {
      "cell_type": "code",
      "source": [],
      "metadata": {
        "id": "8nz89Cl9QWfy"
      },
      "execution_count": null,
      "outputs": []
    }
  ]
}