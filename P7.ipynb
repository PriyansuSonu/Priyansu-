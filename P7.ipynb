{
  "nbformat": 4,
  "nbformat_minor": 0,
  "metadata": {
    "colab": {
      "provenance": [],
      "authorship_tag": "ABX9TyP9qUuZCrquRPgXQeh6jxrF",
      "include_colab_link": true
    },
    "kernelspec": {
      "name": "python3",
      "display_name": "Python 3"
    },
    "language_info": {
      "name": "python"
    }
  },
  "cells": [
    {
      "cell_type": "markdown",
      "metadata": {
        "id": "view-in-github",
        "colab_type": "text"
      },
      "source": [
        "<a href=\"https://colab.research.google.com/github/PriyansuSonu/Priyansu-/blob/main/P7.ipynb\" target=\"_parent\"><img src=\"https://colab.research.google.com/assets/colab-badge.svg\" alt=\"Open In Colab\"/></a>"
      ]
    },
    {
      "cell_type": "code",
      "execution_count": null,
      "metadata": {
        "id": "LParpumIBfwA"
      },
      "outputs": [],
      "source": [
        "#WEB SCRAPING - BEAUTIFUL SOUP\n",
        "#WEB SCRAPING - AMAZON CUSTOMER REVIEWS"
      ]
    },
    {
      "cell_type": "code",
      "source": [
        "import requests #We are importing the libraries\n",
        "from bs4 import BeautifulSoup as bs"
      ],
      "metadata": {
        "id": "WrEvM5gQCVqQ"
      },
      "execution_count": null,
      "outputs": []
    },
    {
      "cell_type": "code",
      "source": [
        "url = 'https://www.amazon.in/Apple-iPhone-Pro-Max-256GB/product-reviews/B09G93NZVW/ref=cm_cr_dp_d_show_all_btm?ie=UTF8&reviewerType=all_reviews'\n",
        "page = requests.get(url) #We are requesting the webpage of the above url\n",
        "page\n",
        "#<Response [200]> is correct.       <Response [503]> is an error \n",
        "#Rerun your cell 2 to 3 times until you get <Response [200]>\n",
        "#Even after rerunning , if you dont get <Response [200]>,then check for proper url"
      ],
      "metadata": {
        "colab": {
          "base_uri": "https://localhost:8080/"
        },
        "id": "FnaituRqDXJV",
        "outputId": "40b2e22c-6f87-4293-b632-c734274dc583"
      },
      "execution_count": null,
      "outputs": [
        {
          "output_type": "execute_result",
          "data": {
            "text/plain": [
              "<Response [200]>"
            ]
          },
          "metadata": {},
          "execution_count": 3
        }
      ]
    },
    {
      "cell_type": "code",
      "source": [
        "page.content #here we have the source code of the customer reviews webpage"
      ],
      "metadata": {
        "id": "ZkvyLVVYDam9"
      },
      "execution_count": null,
      "outputs": []
    },
    {
      "cell_type": "code",
      "source": [
        "#Let us get the source in better readable format\n",
        "soup = bs(page.content,'html.parser')\n",
        "soup #html.parser converts my source code into better readable format"
      ],
      "metadata": {
        "id": "r-SlHWnBDeTE"
      },
      "execution_count": null,
      "outputs": []
    },
    {
      "cell_type": "code",
      "source": [
        "#NEVER EVER CONSIDER TOP POSITIVE and TOP CRITICAL REVIEWS\n",
        "names = soup.find_all('span',class_ = 'a-profile-name')[2:]\n",
        "names"
      ],
      "metadata": {
        "colab": {
          "base_uri": "https://localhost:8080/"
        },
        "id": "j_qd-G-JDhq0",
        "outputId": "4d0c4be5-113e-4217-99b6-03d006d35f05"
      },
      "execution_count": null,
      "outputs": [
        {
          "output_type": "execute_result",
          "data": {
            "text/plain": [
              "[<span class=\"a-profile-name\">MAHINDRA JAIN KAPIL</span>,\n",
              " <span class=\"a-profile-name\">Joydeep bhattacharya</span>,\n",
              " <span class=\"a-profile-name\">Rasheed Arakkal</span>,\n",
              " <span class=\"a-profile-name\">Syed’s </span>,\n",
              " <span class=\"a-profile-name\">Roshan</span>,\n",
              " <span class=\"a-profile-name\">san</span>,\n",
              " <span class=\"a-profile-name\">Diwakar Prasad</span>,\n",
              " <span class=\"a-profile-name\">venkatesh</span>,\n",
              " <span class=\"a-profile-name\">Gowtham Jose</span>,\n",
              " <span class=\"a-profile-name\">Abhishek</span>]"
            ]
          },
          "metadata": {},
          "execution_count": 6
        }
      ]
    },
    {
      "cell_type": "code",
      "source": [
        "len(names)"
      ],
      "metadata": {
        "colab": {
          "base_uri": "https://localhost:8080/"
        },
        "id": "BNZmrxQPEIA8",
        "outputId": "d2f05bf3-f058-4535-c4bc-3f28492b7c1f"
      },
      "execution_count": null,
      "outputs": [
        {
          "output_type": "execute_result",
          "data": {
            "text/plain": [
              "10"
            ]
          },
          "metadata": {},
          "execution_count": 7
        }
      ]
    },
    {
      "cell_type": "code",
      "source": [
        "#Now let us create a dataframe and put the names list in a new column in dataframe\n",
        "import pandas as pd\n",
        "df = pd.DataFrame(names,columns = {'Customer Name'})\n",
        "df"
      ],
      "metadata": {
        "colab": {
          "base_uri": "https://localhost:8080/",
          "height": 363
        },
        "id": "JDs2GPVpEKi9",
        "outputId": "98dbe061-f87d-4667-be38-9bb12ea14618"
      },
      "execution_count": null,
      "outputs": [
        {
          "output_type": "execute_result",
          "data": {
            "text/plain": [
              "          Customer Name\n",
              "0   MAHINDRA JAIN KAPIL\n",
              "1  Joydeep bhattacharya\n",
              "2       Rasheed Arakkal\n",
              "3               Syed’s \n",
              "4                Roshan\n",
              "5                   san\n",
              "6        Diwakar Prasad\n",
              "7             venkatesh\n",
              "8          Gowtham Jose\n",
              "9              Abhishek"
            ],
            "text/html": [
              "\n",
              "  <div id=\"df-55a6bea3-df85-45ae-8b5d-813a600a4190\">\n",
              "    <div class=\"colab-df-container\">\n",
              "      <div>\n",
              "<style scoped>\n",
              "    .dataframe tbody tr th:only-of-type {\n",
              "        vertical-align: middle;\n",
              "    }\n",
              "\n",
              "    .dataframe tbody tr th {\n",
              "        vertical-align: top;\n",
              "    }\n",
              "\n",
              "    .dataframe thead th {\n",
              "        text-align: right;\n",
              "    }\n",
              "</style>\n",
              "<table border=\"1\" class=\"dataframe\">\n",
              "  <thead>\n",
              "    <tr style=\"text-align: right;\">\n",
              "      <th></th>\n",
              "      <th>Customer Name</th>\n",
              "    </tr>\n",
              "  </thead>\n",
              "  <tbody>\n",
              "    <tr>\n",
              "      <th>0</th>\n",
              "      <td>MAHINDRA JAIN KAPIL</td>\n",
              "    </tr>\n",
              "    <tr>\n",
              "      <th>1</th>\n",
              "      <td>Joydeep bhattacharya</td>\n",
              "    </tr>\n",
              "    <tr>\n",
              "      <th>2</th>\n",
              "      <td>Rasheed Arakkal</td>\n",
              "    </tr>\n",
              "    <tr>\n",
              "      <th>3</th>\n",
              "      <td>Syed’s</td>\n",
              "    </tr>\n",
              "    <tr>\n",
              "      <th>4</th>\n",
              "      <td>Roshan</td>\n",
              "    </tr>\n",
              "    <tr>\n",
              "      <th>5</th>\n",
              "      <td>san</td>\n",
              "    </tr>\n",
              "    <tr>\n",
              "      <th>6</th>\n",
              "      <td>Diwakar Prasad</td>\n",
              "    </tr>\n",
              "    <tr>\n",
              "      <th>7</th>\n",
              "      <td>venkatesh</td>\n",
              "    </tr>\n",
              "    <tr>\n",
              "      <th>8</th>\n",
              "      <td>Gowtham Jose</td>\n",
              "    </tr>\n",
              "    <tr>\n",
              "      <th>9</th>\n",
              "      <td>Abhishek</td>\n",
              "    </tr>\n",
              "  </tbody>\n",
              "</table>\n",
              "</div>\n",
              "      <button class=\"colab-df-convert\" onclick=\"convertToInteractive('df-55a6bea3-df85-45ae-8b5d-813a600a4190')\"\n",
              "              title=\"Convert this dataframe to an interactive table.\"\n",
              "              style=\"display:none;\">\n",
              "        \n",
              "  <svg xmlns=\"http://www.w3.org/2000/svg\" height=\"24px\"viewBox=\"0 0 24 24\"\n",
              "       width=\"24px\">\n",
              "    <path d=\"M0 0h24v24H0V0z\" fill=\"none\"/>\n",
              "    <path d=\"M18.56 5.44l.94 2.06.94-2.06 2.06-.94-2.06-.94-.94-2.06-.94 2.06-2.06.94zm-11 1L8.5 8.5l.94-2.06 2.06-.94-2.06-.94L8.5 2.5l-.94 2.06-2.06.94zm10 10l.94 2.06.94-2.06 2.06-.94-2.06-.94-.94-2.06-.94 2.06-2.06.94z\"/><path d=\"M17.41 7.96l-1.37-1.37c-.4-.4-.92-.59-1.43-.59-.52 0-1.04.2-1.43.59L10.3 9.45l-7.72 7.72c-.78.78-.78 2.05 0 2.83L4 21.41c.39.39.9.59 1.41.59.51 0 1.02-.2 1.41-.59l7.78-7.78 2.81-2.81c.8-.78.8-2.07 0-2.86zM5.41 20L4 18.59l7.72-7.72 1.47 1.35L5.41 20z\"/>\n",
              "  </svg>\n",
              "      </button>\n",
              "      \n",
              "  <style>\n",
              "    .colab-df-container {\n",
              "      display:flex;\n",
              "      flex-wrap:wrap;\n",
              "      gap: 12px;\n",
              "    }\n",
              "\n",
              "    .colab-df-convert {\n",
              "      background-color: #E8F0FE;\n",
              "      border: none;\n",
              "      border-radius: 50%;\n",
              "      cursor: pointer;\n",
              "      display: none;\n",
              "      fill: #1967D2;\n",
              "      height: 32px;\n",
              "      padding: 0 0 0 0;\n",
              "      width: 32px;\n",
              "    }\n",
              "\n",
              "    .colab-df-convert:hover {\n",
              "      background-color: #E2EBFA;\n",
              "      box-shadow: 0px 1px 2px rgba(60, 64, 67, 0.3), 0px 1px 3px 1px rgba(60, 64, 67, 0.15);\n",
              "      fill: #174EA6;\n",
              "    }\n",
              "\n",
              "    [theme=dark] .colab-df-convert {\n",
              "      background-color: #3B4455;\n",
              "      fill: #D2E3FC;\n",
              "    }\n",
              "\n",
              "    [theme=dark] .colab-df-convert:hover {\n",
              "      background-color: #434B5C;\n",
              "      box-shadow: 0px 1px 3px 1px rgba(0, 0, 0, 0.15);\n",
              "      filter: drop-shadow(0px 1px 2px rgba(0, 0, 0, 0.3));\n",
              "      fill: #FFFFFF;\n",
              "    }\n",
              "  </style>\n",
              "\n",
              "      <script>\n",
              "        const buttonEl =\n",
              "          document.querySelector('#df-55a6bea3-df85-45ae-8b5d-813a600a4190 button.colab-df-convert');\n",
              "        buttonEl.style.display =\n",
              "          google.colab.kernel.accessAllowed ? 'block' : 'none';\n",
              "\n",
              "        async function convertToInteractive(key) {\n",
              "          const element = document.querySelector('#df-55a6bea3-df85-45ae-8b5d-813a600a4190');\n",
              "          const dataTable =\n",
              "            await google.colab.kernel.invokeFunction('convertToInteractive',\n",
              "                                                     [key], {});\n",
              "          if (!dataTable) return;\n",
              "\n",
              "          const docLinkHtml = 'Like what you see? Visit the ' +\n",
              "            '<a target=\"_blank\" href=https://colab.research.google.com/notebooks/data_table.ipynb>data table notebook</a>'\n",
              "            + ' to learn more about interactive tables.';\n",
              "          element.innerHTML = '';\n",
              "          dataTable['output_type'] = 'display_data';\n",
              "          await google.colab.output.renderOutput(dataTable, element);\n",
              "          const docLink = document.createElement('div');\n",
              "          docLink.innerHTML = docLinkHtml;\n",
              "          element.appendChild(docLink);\n",
              "        }\n",
              "      </script>\n",
              "    </div>\n",
              "  </div>\n",
              "  "
            ]
          },
          "metadata": {},
          "execution_count": 8
        }
      ]
    },
    {
      "cell_type": "code",
      "source": [
        "#Next let us scrape the Review Title\n",
        "r_title = soup.find_all('a',class_ = 'review-title')\n",
        "r_title"
      ],
      "metadata": {
        "colab": {
          "base_uri": "https://localhost:8080/"
        },
        "id": "ycfomTlAENAV",
        "outputId": "7a5c38c6-c42b-4cf8-faed-ee24dc47f48a"
      },
      "execution_count": null,
      "outputs": [
        {
          "output_type": "execute_result",
          "data": {
            "text/plain": [
              "[<a class=\"a-size-base a-link-normal review-title a-color-base review-title-content a-text-bold\" data-hook=\"review-title\" href=\"/gp/customer-reviews/RGDGM72KOISI6?ASIN=B09G93NZVW\">\n",
              " <span>Awesome</span>\n",
              " </a>,\n",
              " <a class=\"a-size-base a-link-normal review-title a-color-base review-title-content a-text-bold\" data-hook=\"review-title\" href=\"/gp/customer-reviews/RUT576Z406VTY?ASIN=B09G93NZVW\">\n",
              " <span>Expensive</span>\n",
              " </a>,\n",
              " <a class=\"a-size-base a-link-normal review-title a-color-base review-title-content a-text-bold\" data-hook=\"review-title\" href=\"/gp/customer-reviews/R2NKXEF4Q37EK6?ASIN=B09G93NZVW\">\n",
              " <span>Awesome engineering</span>\n",
              " </a>,\n",
              " <a class=\"a-size-base a-link-normal review-title a-color-base review-title-content a-text-bold\" data-hook=\"review-title\" href=\"/gp/customer-reviews/R3QJZRXUZ34TEV?ASIN=B09G93NZVW\">\n",
              " <span>Open box diye sim tool nahi aa ya but phone mast aaya</span>\n",
              " </a>,\n",
              " <a class=\"a-size-base a-link-normal review-title a-color-base review-title-content a-text-bold\" data-hook=\"review-title\" href=\"/gp/customer-reviews/RZPLRT8ORTSLM?ASIN=B09G93NZVW\">\n",
              " <span>Overall Good</span>\n",
              " </a>,\n",
              " <a class=\"a-size-base a-link-normal review-title a-color-base review-title-content a-text-bold\" data-hook=\"review-title\" href=\"/gp/customer-reviews/R3NS7OC5V6HBZL?ASIN=B09G93NZVW\">\n",
              " <span>Love it</span>\n",
              " </a>,\n",
              " <a class=\"a-size-base a-link-normal review-title a-color-base review-title-content a-text-bold\" data-hook=\"review-title\" href=\"/gp/customer-reviews/R1289075FHISN0?ASIN=B09G93NZVW\">\n",
              " <span>Best</span>\n",
              " </a>,\n",
              " <a class=\"a-size-base a-link-normal review-title a-color-base review-title-content a-text-bold\" data-hook=\"review-title\" href=\"/gp/customer-reviews/R7048P3USU859?ASIN=B09G93NZVW\">\n",
              " <span>13pro max</span>\n",
              " </a>,\n",
              " <a class=\"a-size-base a-link-normal review-title a-color-base review-title-content a-text-bold\" data-hook=\"review-title\" href=\"/gp/customer-reviews/R1UVS4R4E5V271?ASIN=B09G93NZVW\">\n",
              " <span>Must buy</span>\n",
              " </a>,\n",
              " <a class=\"a-size-base a-link-normal review-title a-color-base review-title-content a-text-bold\" data-hook=\"review-title\" href=\"/gp/customer-reviews/R10KQGKKDB049X?ASIN=B09G93NZVW\">\n",
              " <span>Good</span>\n",
              " </a>]"
            ]
          },
          "metadata": {},
          "execution_count": 9
        }
      ]
    },
    {
      "cell_type": "code",
      "source": [
        "len(r_title)"
      ],
      "metadata": {
        "colab": {
          "base_uri": "https://localhost:8080/"
        },
        "id": "2Og8XXs6EPm-",
        "outputId": "2da67996-1897-41cb-963c-f464a8517233"
      },
      "execution_count": null,
      "outputs": [
        {
          "output_type": "execute_result",
          "data": {
            "text/plain": [
              "10"
            ]
          },
          "metadata": {},
          "execution_count": 10
        }
      ]
    },
    {
      "cell_type": "code",
      "source": [
        "#DATA CLEANING/DATA FILTERATION\n",
        "review_title = [] #empty list\n",
        "#for i in range(0,10):\n",
        "for i in range(0,len(r_title)):\n",
        "  review_title.append(r_title[i].get_text()[1:-1])\n",
        "review_title"
      ],
      "metadata": {
        "colab": {
          "base_uri": "https://localhost:8080/"
        },
        "id": "jyNccH93ESzs",
        "outputId": "9a4bf1f7-cb46-4780-c866-f08c0debbb9b"
      },
      "execution_count": null,
      "outputs": [
        {
          "output_type": "execute_result",
          "data": {
            "text/plain": [
              "['Awesome',\n",
              " 'Expensive',\n",
              " 'Awesome engineering',\n",
              " 'Open box diye sim tool nahi aa ya but phone mast aaya',\n",
              " 'Overall Good',\n",
              " 'Love it',\n",
              " 'Best',\n",
              " '13pro max',\n",
              " 'Must buy',\n",
              " 'Good']"
            ]
          },
          "metadata": {},
          "execution_count": 11
        }
      ]
    },
    {
      "cell_type": "code",
      "source": [
        "#Now Scrape the Review dates \n",
        "dates = soup.find_all('span',class_ = 'review-date')[2:]\n",
        "dates"
      ],
      "metadata": {
        "colab": {
          "base_uri": "https://localhost:8080/"
        },
        "id": "uZfq027dEVHG",
        "outputId": "4b4bf9c7-db5c-40a0-a79a-9a0d9ba5674d"
      },
      "execution_count": null,
      "outputs": [
        {
          "output_type": "execute_result",
          "data": {
            "text/plain": [
              "[<span class=\"a-size-base a-color-secondary review-date\" data-hook=\"review-date\">Reviewed in India 🇮🇳 on 28 December 2022</span>,\n",
              " <span class=\"a-size-base a-color-secondary review-date\" data-hook=\"review-date\">Reviewed in India 🇮🇳 on 16 November 2022</span>,\n",
              " <span class=\"a-size-base a-color-secondary review-date\" data-hook=\"review-date\">Reviewed in India 🇮🇳 on 27 November 2022</span>,\n",
              " <span class=\"a-size-base a-color-secondary review-date\" data-hook=\"review-date\">Reviewed in India 🇮🇳 on 7 October 2022</span>,\n",
              " <span class=\"a-size-base a-color-secondary review-date\" data-hook=\"review-date\">Reviewed in India 🇮🇳 on 27 October 2022</span>,\n",
              " <span class=\"a-size-base a-color-secondary review-date\" data-hook=\"review-date\">Reviewed in India 🇮🇳 on 23 September 2022</span>,\n",
              " <span class=\"a-size-base a-color-secondary review-date\" data-hook=\"review-date\">Reviewed in India 🇮🇳 on 15 November 2022</span>,\n",
              " <span class=\"a-size-base a-color-secondary review-date\" data-hook=\"review-date\">Reviewed in India 🇮🇳 on 10 November 2022</span>,\n",
              " <span class=\"a-size-base a-color-secondary review-date\" data-hook=\"review-date\">Reviewed in India 🇮🇳 on 5 November 2022</span>,\n",
              " <span class=\"a-size-base a-color-secondary review-date\" data-hook=\"review-date\">Reviewed in India 🇮🇳 on 30 October 2022</span>]"
            ]
          },
          "metadata": {},
          "execution_count": 12
        }
      ]
    },
    {
      "cell_type": "code",
      "source": [
        "len(dates)"
      ],
      "metadata": {
        "colab": {
          "base_uri": "https://localhost:8080/"
        },
        "id": "_j-rSccbEXa0",
        "outputId": "ef3bd742-31ed-419a-a217-b4296aea8b77"
      },
      "execution_count": null,
      "outputs": [
        {
          "output_type": "execute_result",
          "data": {
            "text/plain": [
              "10"
            ]
          },
          "metadata": {},
          "execution_count": 13
        }
      ]
    },
    {
      "cell_type": "code",
      "source": [
        "#Data Filtering\n",
        "review_date = [] #empty list\n",
        "for i in range(0,len(dates)):\n",
        "  review_date.append(dates[i].get_text().replace('Reviewed in India 🇮🇳 on ',''))\n",
        "review_date"
      ],
      "metadata": {
        "colab": {
          "base_uri": "https://localhost:8080/"
        },
        "id": "w7szYG21EZzv",
        "outputId": "9ef11945-ec2b-473b-9a32-82e629cbf8a6"
      },
      "execution_count": null,
      "outputs": [
        {
          "output_type": "execute_result",
          "data": {
            "text/plain": [
              "['28 December 2022',\n",
              " '16 November 2022',\n",
              " '27 November 2022',\n",
              " '7 October 2022',\n",
              " '27 October 2022',\n",
              " '23 September 2022',\n",
              " '15 November 2022',\n",
              " '10 November 2022',\n",
              " '5 November 2022',\n",
              " '30 October 2022']"
            ]
          },
          "metadata": {},
          "execution_count": 14
        }
      ]
    },
    {
      "cell_type": "code",
      "source": [
        "#NEXT IS REVIEW RATING IN STARS\n",
        "rating = soup.find_all('i',class_ = 'review-rating')[2:]\n",
        "rating"
      ],
      "metadata": {
        "colab": {
          "base_uri": "https://localhost:8080/"
        },
        "id": "LbnQBuGAEcMd",
        "outputId": "661820f1-f299-4339-cea5-7f72cadde530"
      },
      "execution_count": null,
      "outputs": [
        {
          "output_type": "execute_result",
          "data": {
            "text/plain": [
              "[<i class=\"a-icon a-icon-star a-star-5 review-rating\" data-hook=\"review-star-rating\"><span class=\"a-icon-alt\">5.0 out of 5 stars</span></i>,\n",
              " <i class=\"a-icon a-icon-star a-star-4 review-rating\" data-hook=\"review-star-rating\"><span class=\"a-icon-alt\">4.0 out of 5 stars</span></i>,\n",
              " <i class=\"a-icon a-icon-star a-star-5 review-rating\" data-hook=\"review-star-rating\"><span class=\"a-icon-alt\">5.0 out of 5 stars</span></i>,\n",
              " <i class=\"a-icon a-icon-star a-star-4 review-rating\" data-hook=\"review-star-rating\"><span class=\"a-icon-alt\">4.0 out of 5 stars</span></i>,\n",
              " <i class=\"a-icon a-icon-star a-star-4 review-rating\" data-hook=\"review-star-rating\"><span class=\"a-icon-alt\">4.0 out of 5 stars</span></i>,\n",
              " <i class=\"a-icon a-icon-star a-star-4 review-rating\" data-hook=\"review-star-rating\"><span class=\"a-icon-alt\">4.0 out of 5 stars</span></i>,\n",
              " <i class=\"a-icon a-icon-star a-star-5 review-rating\" data-hook=\"review-star-rating\"><span class=\"a-icon-alt\">5.0 out of 5 stars</span></i>,\n",
              " <i class=\"a-icon a-icon-star a-star-5 review-rating\" data-hook=\"review-star-rating\"><span class=\"a-icon-alt\">5.0 out of 5 stars</span></i>,\n",
              " <i class=\"a-icon a-icon-star a-star-5 review-rating\" data-hook=\"review-star-rating\"><span class=\"a-icon-alt\">5.0 out of 5 stars</span></i>,\n",
              " <i class=\"a-icon a-icon-star a-star-5 review-rating\" data-hook=\"review-star-rating\"><span class=\"a-icon-alt\">5.0 out of 5 stars</span></i>]"
            ]
          },
          "metadata": {},
          "execution_count": 15
        }
      ]
    },
    {
      "cell_type": "code",
      "source": [
        "len(rating)"
      ],
      "metadata": {
        "colab": {
          "base_uri": "https://localhost:8080/"
        },
        "id": "i9kbCU1vEexM",
        "outputId": "93392ee8-a81d-4eaa-d61d-132f69806f68"
      },
      "execution_count": null,
      "outputs": [
        {
          "output_type": "execute_result",
          "data": {
            "text/plain": [
              "10"
            ]
          },
          "metadata": {},
          "execution_count": 16
        }
      ]
    },
    {
      "cell_type": "code",
      "source": [
        "#DATA FILTERING\n",
        "review_rating = []\n",
        "for i in range(len(rating)):\n",
        "  review_rating.append(rating[i].get_text())\n",
        "review_rating"
      ],
      "metadata": {
        "colab": {
          "base_uri": "https://localhost:8080/"
        },
        "id": "fx6WAs-eEhY0",
        "outputId": "54df224f-cd4b-45a4-af9f-a94c00177713"
      },
      "execution_count": null,
      "outputs": [
        {
          "output_type": "execute_result",
          "data": {
            "text/plain": [
              "['5.0 out of 5 stars',\n",
              " '4.0 out of 5 stars',\n",
              " '5.0 out of 5 stars',\n",
              " '4.0 out of 5 stars',\n",
              " '4.0 out of 5 stars',\n",
              " '4.0 out of 5 stars',\n",
              " '5.0 out of 5 stars',\n",
              " '5.0 out of 5 stars',\n",
              " '5.0 out of 5 stars',\n",
              " '5.0 out of 5 stars']"
            ]
          },
          "metadata": {},
          "execution_count": 17
        }
      ]
    },
    {
      "cell_type": "code",
      "source": [
        "#Next is review content\n",
        "content = soup.find_all('span',class_ = 'review-text')\n",
        "content"
      ],
      "metadata": {
        "colab": {
          "base_uri": "https://localhost:8080/"
        },
        "id": "L7xyxsCNEjZm",
        "outputId": "32466355-e92d-460b-f74b-cf3146686d3f"
      },
      "execution_count": null,
      "outputs": [
        {
          "output_type": "execute_result",
          "data": {
            "text/plain": [
              "[<span class=\"a-size-base review-text review-text-content\" data-hook=\"review-body\">\n",
              " <span>Offline Peksha best deal Only Amazon</span>\n",
              " </span>,\n",
              " <span class=\"a-size-base review-text review-text-content\" data-hook=\"review-body\">\n",
              " <span>Expensive</span>\n",
              " </span>,\n",
              " <span class=\"a-size-base review-text review-text-content\" data-hook=\"review-body\">\n",
              " <span>Awesome engineering</span>\n",
              " </span>,\n",
              " <span class=\"a-size-base review-text review-text-content\" data-hook=\"review-body\">\n",
              " <span>Open box diye sim tool nahi aa ya but phone mast aaya</span>\n",
              " </span>,\n",
              " <span class=\"a-size-base review-text review-text-content\" data-hook=\"review-body\"><div class=\"a-section a-spacing-small a-spacing-top-mini video-block\" id=\"video-block-RZPLRT8ORTSLM\">\n",
              " <div class=\"cr-video-desktop cr-video-desktop-placeholder\" data-closed-captions=\"en,https://m.media-amazon.com/images/S/vse-vms-closed-captions-artifact-eu-west-1-prod/closedCaptions/1772b477-a9f7-433d-9b3d-e38eb923854c.vtt\" data-review-id=\"RZPLRT8ORTSLM\" data-thumbnail-url=\"https://m.media-amazon.com/images/I/61aneM-KF7L._SY256._SY256.jpg\" data-video-url=\"https://m.media-amazon.com/images/S/vse-vms-transcoding-artifact-eu-west-1-prod/ef472423-12da-4906-a827-5c4f1f3acdc4/default.jobtemplate.hls.m3u8\" id=\"review-video-id-RZPLRT8ORTSLM\">\n",
              " <div class=\"cr-media-status-container\">\n",
              " <span class=\"a-spinner a-spinner-medium cr-media-spinner\"></span>\n",
              " <span class=\"a-color-inverse cr-media-error-msg\">\n",
              "                     The media could not be loaded.\n",
              "                 </span>\n",
              " </div>\n",
              " </div>\n",
              " </div><input class=\"video-url\" name=\"\" type=\"hidden\" value=\"https://m.media-amazon.com/images/S/vse-vms-transcoding-artifact-eu-west-1-prod/ef472423-12da-4906-a827-5c4f1f3acdc4/default.jobtemplate.mp4.480.mp4\"/><input class=\"video-slate-img-url\" name=\"\" type=\"hidden\" value=\"https://m.media-amazon.com/images/I/61aneM-KF7L._SY256._SY256.jpg\"/></span>,\n",
              " <span class=\"a-size-base review-text review-text-content\" data-hook=\"review-body\">\n",
              " <span>Product is nice but the seal was broken from seller side</span>\n",
              " </span>,\n",
              " <span class=\"a-size-base review-text review-text-content\" data-hook=\"review-body\">\n",
              " <span>Best</span>\n",
              " </span>,\n",
              " <span class=\"a-size-base review-text review-text-content\" data-hook=\"review-body\">\n",
              " <span>Good product</span>\n",
              " </span>,\n",
              " <span class=\"a-size-base review-text review-text-content\" data-hook=\"review-body\">\n",
              " <span>The best phone I've ever used.</span>\n",
              " </span>,\n",
              " <span class=\"a-size-base review-text review-text-content\" data-hook=\"review-body\">\n",
              " <span>Good</span>\n",
              " </span>]"
            ]
          },
          "metadata": {},
          "execution_count": 18
        }
      ]
    },
    {
      "cell_type": "code",
      "source": [
        "#DATA FILTERING\n",
        "review_content = [] #empty list\n",
        "for i in range(0,len(content)):\n",
        "  review_content.append(content[i].get_text().replace('\\n',''))\n",
        "review_content"
      ],
      "metadata": {
        "colab": {
          "base_uri": "https://localhost:8080/"
        },
        "id": "RI6lPsxLEl3s",
        "outputId": "d0ebf8f7-9f92-4aac-9978-36230d45b0de"
      },
      "execution_count": null,
      "outputs": [
        {
          "output_type": "execute_result",
          "data": {
            "text/plain": [
              "['Offline Peksha best deal Only Amazon',\n",
              " 'Expensive',\n",
              " 'Awesome engineering',\n",
              " 'Open box diye sim tool nahi aa ya but phone mast aaya',\n",
              " '                    The media could not be loaded.                ',\n",
              " 'Product is nice but the seal was broken from seller side',\n",
              " 'Best',\n",
              " 'Good product',\n",
              " \"The best phone I've ever used.\",\n",
              " 'Good']"
            ]
          },
          "metadata": {},
          "execution_count": 19
        }
      ]
    },
    {
      "cell_type": "code",
      "source": [
        "df['Review Title'] = review_title\n",
        "df['Review Date'] = review_date\n",
        "df['Review Rating'] = review_rating\n",
        "df['Review Content'] = review_content\n",
        "df"
      ],
      "metadata": {
        "colab": {
          "base_uri": "https://localhost:8080/",
          "height": 632
        },
        "id": "InYejet3Eolc",
        "outputId": "70dece0d-111d-45e0-8a58-404e4db8b083"
      },
      "execution_count": null,
      "outputs": [
        {
          "output_type": "execute_result",
          "data": {
            "text/plain": [
              "          Customer Name                                       Review Title  \\\n",
              "0   MAHINDRA JAIN KAPIL                                            Awesome   \n",
              "1  Joydeep bhattacharya                                          Expensive   \n",
              "2       Rasheed Arakkal                                Awesome engineering   \n",
              "3               Syed’s   Open box diye sim tool nahi aa ya but phone ma...   \n",
              "4                Roshan                                       Overall Good   \n",
              "5                   san                                            Love it   \n",
              "6        Diwakar Prasad                                               Best   \n",
              "7             venkatesh                                          13pro max   \n",
              "8          Gowtham Jose                                           Must buy   \n",
              "9              Abhishek                                               Good   \n",
              "\n",
              "         Review Date       Review Rating  \\\n",
              "0   28 December 2022  5.0 out of 5 stars   \n",
              "1   16 November 2022  4.0 out of 5 stars   \n",
              "2   27 November 2022  5.0 out of 5 stars   \n",
              "3     7 October 2022  4.0 out of 5 stars   \n",
              "4    27 October 2022  4.0 out of 5 stars   \n",
              "5  23 September 2022  4.0 out of 5 stars   \n",
              "6   15 November 2022  5.0 out of 5 stars   \n",
              "7   10 November 2022  5.0 out of 5 stars   \n",
              "8    5 November 2022  5.0 out of 5 stars   \n",
              "9    30 October 2022  5.0 out of 5 stars   \n",
              "\n",
              "                                      Review Content  \n",
              "0               Offline Peksha best deal Only Amazon  \n",
              "1                                          Expensive  \n",
              "2                                Awesome engineering  \n",
              "3  Open box diye sim tool nahi aa ya but phone ma...  \n",
              "4                      The media could not be loa...  \n",
              "5  Product is nice but the seal was broken from s...  \n",
              "6                                               Best  \n",
              "7                                       Good product  \n",
              "8                     The best phone I've ever used.  \n",
              "9                                               Good  "
            ],
            "text/html": [
              "\n",
              "  <div id=\"df-1805d184-e7ce-48bd-9de2-8fe92d6f703d\">\n",
              "    <div class=\"colab-df-container\">\n",
              "      <div>\n",
              "<style scoped>\n",
              "    .dataframe tbody tr th:only-of-type {\n",
              "        vertical-align: middle;\n",
              "    }\n",
              "\n",
              "    .dataframe tbody tr th {\n",
              "        vertical-align: top;\n",
              "    }\n",
              "\n",
              "    .dataframe thead th {\n",
              "        text-align: right;\n",
              "    }\n",
              "</style>\n",
              "<table border=\"1\" class=\"dataframe\">\n",
              "  <thead>\n",
              "    <tr style=\"text-align: right;\">\n",
              "      <th></th>\n",
              "      <th>Customer Name</th>\n",
              "      <th>Review Title</th>\n",
              "      <th>Review Date</th>\n",
              "      <th>Review Rating</th>\n",
              "      <th>Review Content</th>\n",
              "    </tr>\n",
              "  </thead>\n",
              "  <tbody>\n",
              "    <tr>\n",
              "      <th>0</th>\n",
              "      <td>MAHINDRA JAIN KAPIL</td>\n",
              "      <td>Awesome</td>\n",
              "      <td>28 December 2022</td>\n",
              "      <td>5.0 out of 5 stars</td>\n",
              "      <td>Offline Peksha best deal Only Amazon</td>\n",
              "    </tr>\n",
              "    <tr>\n",
              "      <th>1</th>\n",
              "      <td>Joydeep bhattacharya</td>\n",
              "      <td>Expensive</td>\n",
              "      <td>16 November 2022</td>\n",
              "      <td>4.0 out of 5 stars</td>\n",
              "      <td>Expensive</td>\n",
              "    </tr>\n",
              "    <tr>\n",
              "      <th>2</th>\n",
              "      <td>Rasheed Arakkal</td>\n",
              "      <td>Awesome engineering</td>\n",
              "      <td>27 November 2022</td>\n",
              "      <td>5.0 out of 5 stars</td>\n",
              "      <td>Awesome engineering</td>\n",
              "    </tr>\n",
              "    <tr>\n",
              "      <th>3</th>\n",
              "      <td>Syed’s</td>\n",
              "      <td>Open box diye sim tool nahi aa ya but phone ma...</td>\n",
              "      <td>7 October 2022</td>\n",
              "      <td>4.0 out of 5 stars</td>\n",
              "      <td>Open box diye sim tool nahi aa ya but phone ma...</td>\n",
              "    </tr>\n",
              "    <tr>\n",
              "      <th>4</th>\n",
              "      <td>Roshan</td>\n",
              "      <td>Overall Good</td>\n",
              "      <td>27 October 2022</td>\n",
              "      <td>4.0 out of 5 stars</td>\n",
              "      <td>The media could not be loa...</td>\n",
              "    </tr>\n",
              "    <tr>\n",
              "      <th>5</th>\n",
              "      <td>san</td>\n",
              "      <td>Love it</td>\n",
              "      <td>23 September 2022</td>\n",
              "      <td>4.0 out of 5 stars</td>\n",
              "      <td>Product is nice but the seal was broken from s...</td>\n",
              "    </tr>\n",
              "    <tr>\n",
              "      <th>6</th>\n",
              "      <td>Diwakar Prasad</td>\n",
              "      <td>Best</td>\n",
              "      <td>15 November 2022</td>\n",
              "      <td>5.0 out of 5 stars</td>\n",
              "      <td>Best</td>\n",
              "    </tr>\n",
              "    <tr>\n",
              "      <th>7</th>\n",
              "      <td>venkatesh</td>\n",
              "      <td>13pro max</td>\n",
              "      <td>10 November 2022</td>\n",
              "      <td>5.0 out of 5 stars</td>\n",
              "      <td>Good product</td>\n",
              "    </tr>\n",
              "    <tr>\n",
              "      <th>8</th>\n",
              "      <td>Gowtham Jose</td>\n",
              "      <td>Must buy</td>\n",
              "      <td>5 November 2022</td>\n",
              "      <td>5.0 out of 5 stars</td>\n",
              "      <td>The best phone I've ever used.</td>\n",
              "    </tr>\n",
              "    <tr>\n",
              "      <th>9</th>\n",
              "      <td>Abhishek</td>\n",
              "      <td>Good</td>\n",
              "      <td>30 October 2022</td>\n",
              "      <td>5.0 out of 5 stars</td>\n",
              "      <td>Good</td>\n",
              "    </tr>\n",
              "  </tbody>\n",
              "</table>\n",
              "</div>\n",
              "      <button class=\"colab-df-convert\" onclick=\"convertToInteractive('df-1805d184-e7ce-48bd-9de2-8fe92d6f703d')\"\n",
              "              title=\"Convert this dataframe to an interactive table.\"\n",
              "              style=\"display:none;\">\n",
              "        \n",
              "  <svg xmlns=\"http://www.w3.org/2000/svg\" height=\"24px\"viewBox=\"0 0 24 24\"\n",
              "       width=\"24px\">\n",
              "    <path d=\"M0 0h24v24H0V0z\" fill=\"none\"/>\n",
              "    <path d=\"M18.56 5.44l.94 2.06.94-2.06 2.06-.94-2.06-.94-.94-2.06-.94 2.06-2.06.94zm-11 1L8.5 8.5l.94-2.06 2.06-.94-2.06-.94L8.5 2.5l-.94 2.06-2.06.94zm10 10l.94 2.06.94-2.06 2.06-.94-2.06-.94-.94-2.06-.94 2.06-2.06.94z\"/><path d=\"M17.41 7.96l-1.37-1.37c-.4-.4-.92-.59-1.43-.59-.52 0-1.04.2-1.43.59L10.3 9.45l-7.72 7.72c-.78.78-.78 2.05 0 2.83L4 21.41c.39.39.9.59 1.41.59.51 0 1.02-.2 1.41-.59l7.78-7.78 2.81-2.81c.8-.78.8-2.07 0-2.86zM5.41 20L4 18.59l7.72-7.72 1.47 1.35L5.41 20z\"/>\n",
              "  </svg>\n",
              "      </button>\n",
              "      \n",
              "  <style>\n",
              "    .colab-df-container {\n",
              "      display:flex;\n",
              "      flex-wrap:wrap;\n",
              "      gap: 12px;\n",
              "    }\n",
              "\n",
              "    .colab-df-convert {\n",
              "      background-color: #E8F0FE;\n",
              "      border: none;\n",
              "      border-radius: 50%;\n",
              "      cursor: pointer;\n",
              "      display: none;\n",
              "      fill: #1967D2;\n",
              "      height: 32px;\n",
              "      padding: 0 0 0 0;\n",
              "      width: 32px;\n",
              "    }\n",
              "\n",
              "    .colab-df-convert:hover {\n",
              "      background-color: #E2EBFA;\n",
              "      box-shadow: 0px 1px 2px rgba(60, 64, 67, 0.3), 0px 1px 3px 1px rgba(60, 64, 67, 0.15);\n",
              "      fill: #174EA6;\n",
              "    }\n",
              "\n",
              "    [theme=dark] .colab-df-convert {\n",
              "      background-color: #3B4455;\n",
              "      fill: #D2E3FC;\n",
              "    }\n",
              "\n",
              "    [theme=dark] .colab-df-convert:hover {\n",
              "      background-color: #434B5C;\n",
              "      box-shadow: 0px 1px 3px 1px rgba(0, 0, 0, 0.15);\n",
              "      filter: drop-shadow(0px 1px 2px rgba(0, 0, 0, 0.3));\n",
              "      fill: #FFFFFF;\n",
              "    }\n",
              "  </style>\n",
              "\n",
              "      <script>\n",
              "        const buttonEl =\n",
              "          document.querySelector('#df-1805d184-e7ce-48bd-9de2-8fe92d6f703d button.colab-df-convert');\n",
              "        buttonEl.style.display =\n",
              "          google.colab.kernel.accessAllowed ? 'block' : 'none';\n",
              "\n",
              "        async function convertToInteractive(key) {\n",
              "          const element = document.querySelector('#df-1805d184-e7ce-48bd-9de2-8fe92d6f703d');\n",
              "          const dataTable =\n",
              "            await google.colab.kernel.invokeFunction('convertToInteractive',\n",
              "                                                     [key], {});\n",
              "          if (!dataTable) return;\n",
              "\n",
              "          const docLinkHtml = 'Like what you see? Visit the ' +\n",
              "            '<a target=\"_blank\" href=https://colab.research.google.com/notebooks/data_table.ipynb>data table notebook</a>'\n",
              "            + ' to learn more about interactive tables.';\n",
              "          element.innerHTML = '';\n",
              "          dataTable['output_type'] = 'display_data';\n",
              "          await google.colab.output.renderOutput(dataTable, element);\n",
              "          const docLink = document.createElement('div');\n",
              "          docLink.innerHTML = docLinkHtml;\n",
              "          element.appendChild(docLink);\n",
              "        }\n",
              "      </script>\n",
              "    </div>\n",
              "  </div>\n",
              "  "
            ]
          },
          "metadata": {},
          "execution_count": 20
        }
      ]
    },
    {
      "cell_type": "code",
      "source": [
        "df.to_csv('Amazon.csv')"
      ],
      "metadata": {
        "id": "InQGJi_5Eq3b"
      },
      "execution_count": null,
      "outputs": []
    },
    {
      "cell_type": "code",
      "source": [],
      "metadata": {
        "id": "rZmHRv9GEuSs"
      },
      "execution_count": null,
      "outputs": []
    }
  ]
}